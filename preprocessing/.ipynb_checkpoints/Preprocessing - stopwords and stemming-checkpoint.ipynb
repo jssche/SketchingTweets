{
 "cells": [
  {
   "cell_type": "code",
   "execution_count": 1,
   "id": "9de62283",
   "metadata": {},
   "outputs": [],
   "source": [
    "import nltk\n",
    "from nltk.corpus import stopwords\n",
    "# nltk.download('stopwords')\n",
    "from nltk.stem import PorterStemmer"
   ]
  },
  {
   "cell_type": "code",
   "execution_count": 2,
   "id": "fb749e5e",
   "metadata": {},
   "outputs": [],
   "source": [
    "all_stopwords = set()\n",
    "for language in stopwords.fileids():\n",
    "    all_stopwords.update(stopwords.words(language))\n",
    "all_stopwords.add('rt')\n",
    "    \n",
    "ps = PorterStemmer()"
   ]
  },
  {
   "cell_type": "code",
   "execution_count": 10,
   "id": "5905b086",
   "metadata": {},
   "outputs": [
    {
     "name": "stdout",
     "output_type": "stream",
     "text": [
      "Number of tweets left in ./processedTweets_stemmed: 219500\n",
      "Number of tweets left in ./indexing_tweets_stemmed: 197610\n",
      "Number of tweets left in ./query_tweets_stemmed: 21890\n"
     ]
    }
   ],
   "source": [
    "# remove stopwords and stemming\n",
    "files = [\n",
    "         './processedTweets_stemmed',\n",
    "         './indexing_tweets_stemmed',\n",
    "         './query_tweets_stemmed',\n",
    "        ]\n",
    "\n",
    "for file in files:\n",
    "    with open(file + '.txt', 'r') as f:\n",
    "        output = ''\n",
    "        count = 0\n",
    "        lines = f.readlines()\n",
    "        for line in lines:\n",
    "            line = line.split(\",\")\n",
    "            line = [word.strip() for word in line]\n",
    "            line = [word for word in line if len(word) > 1]\n",
    "#             line = [word for word in line if not word in all_stopwords]\n",
    "#             line = [ps.stem(word) for word in line]\n",
    "            line = [ps.stem(word) for word in line]\n",
    "            line = [word for word in line if not word.isdigit()]\n",
    "            line = set(line)\n",
    "            if len(line) > 4:\n",
    "                newline = ','.join(line) + '\\n'\n",
    "                output += newline\n",
    "                count += 1\n",
    "        with open(f'{file}_nodigrep.txt', 'w') as f_o:\n",
    "            f_o.write(output)\n",
    "            print(f'Number of tweets left in {file}: {count}')"
   ]
  },
  {
   "cell_type": "code",
   "execution_count": 11,
   "id": "a427d523",
   "metadata": {},
   "outputs": [
    {
     "name": "stdout",
     "output_type": "stream",
     "text": [
      "./processedTweets_stemmed_nodigrep\n",
      "Avg: 8 Min: 5, Max: 22 25th: 6, 50th: 8, 75th: 10\n",
      "./indexing_tweets_stemmed_nodigrep\n",
      "Avg: 8 Min: 5, Max: 22 25th: 6, 50th: 8, 75th: 10\n",
      "./query_tweets_stemmed_nodigrep\n",
      "Avg: 8 Min: 5, Max: 20 25th: 6, 50th: 8, 75th: 10\n"
     ]
    }
   ],
   "source": [
    "# find tweet lengths stats\n",
    "files = [\n",
    "         './processedTweets_stemmed_nodigrep',\n",
    "#          './sampledTweets_stemmed',\n",
    "         './indexing_tweets_stemmed_nodigrep',\n",
    "         './query_tweets_stemmed_nodigrep',\n",
    "#          './sampled_indexing_tweets_stemmed',\n",
    "#          './sampled_query_tweets_stemmed'\n",
    "        ]\n",
    "\n",
    "for file in files:\n",
    "    with open(file + '.txt', 'r') as f:\n",
    "        tweet_length = []\n",
    "        lines = f.readlines()\n",
    "        for line in lines:\n",
    "            line = line.split(\",\")\n",
    "            tweet_length.append(len(line))\n",
    "        tweet_length.sort()\n",
    "        average_l = int(round(sum(tweet_length) / len(tweet_length), 0))\n",
    "        index25 = int(round(len(tweet_length) * 0.25, 0))\n",
    "        index50 = int(round(len(tweet_length) * 0.5, 0))\n",
    "        index75 = int(round(len(tweet_length) * 0.75, 0))\n",
    "        print(f'{file}\\nAvg: {average_l} Min: {tweet_length[0]}, Max: {tweet_length[-1]} 25th: {tweet_length[index25]}, 50th: {tweet_length[index50]}, 75th: {tweet_length[index75]}')"
   ]
  },
  {
   "cell_type": "code",
   "execution_count": null,
   "id": "2dc8e638",
   "metadata": {},
   "outputs": [],
   "source": []
  }
 ],
 "metadata": {
  "kernelspec": {
   "display_name": "Python [conda env:root] *",
   "language": "python",
   "name": "conda-root-py"
  },
  "language_info": {
   "codemirror_mode": {
    "name": "ipython",
    "version": 3
   },
   "file_extension": ".py",
   "mimetype": "text/x-python",
   "name": "python",
   "nbconvert_exporter": "python",
   "pygments_lexer": "ipython3",
   "version": "3.8.8"
  }
 },
 "nbformat": 4,
 "nbformat_minor": 5
}
